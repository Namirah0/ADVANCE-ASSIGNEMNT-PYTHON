{
 "cells": [
  {
   "cell_type": "code",
   "execution_count": null,
   "id": "cd4e6fc5",
   "metadata": {},
   "outputs": [],
   "source": [
    "Q1. Describe three applications for exception processing.\n",
    "Ans: Exception Processing is important to find exceptions that causes the runtime error as runtime errors halt the program \n",
    "    execution when exception occurs.\n",
    "\n",
    "Exception Processing is used in Various Applications. Few examples are:\n",
    "\n",
    "Checking Appropriate use of input in an application\n",
    "Checking for Arithmetic exceptions in mathematical executions\n",
    "Checking File I/O exceptions during File handling"
   ]
  },
  {
   "cell_type": "code",
   "execution_count": null,
   "id": "3c4874d2",
   "metadata": {},
   "outputs": [],
   "source": [
    "Q2. What happens if you don't do something extra to treat an exception?\n",
    "Ans: If Exceptions are not handled, flow of program will be broken during the run time which might lead to an abnormal \n",
    "    termination of the program. Inshort inability of program to handle exceptions will result in crashing of program and we \n",
    "    will not be able to get the desired result."
   ]
  },
  {
   "cell_type": "code",
   "execution_count": null,
   "id": "c5b8b486",
   "metadata": {},
   "outputs": [],
   "source": [
    "Q3. What are your options for recovering from an exception in your script?\n",
    "Ans: Python provides try and except statements for recovering from an exception in our script."
   ]
  },
  {
   "cell_type": "code",
   "execution_count": 1,
   "id": "c56da6cd",
   "metadata": {},
   "outputs": [
    {
     "name": "stdout",
     "output_type": "stream",
     "text": [
      "An exception occurred\n"
     ]
    }
   ],
   "source": [
    "try:\n",
    "  print(x)\n",
    "except:\n",
    "  print(\"An exception occurred\") "
   ]
  },
  {
   "cell_type": "code",
   "execution_count": null,
   "id": "00881097",
   "metadata": {},
   "outputs": [],
   "source": [
    "Q4. Describe two methods for triggering exceptions in your script ?\n",
    "Ans: raise and assert are two methods that can be used to trigger manual exceptions in our script.\n",
    "\n",
    "raise method triggers an exception if condition provided to it turns out to be True.\n",
    "assert will let the program to continue execution if condition provided to it turns out to be True else exception will be raised"
   ]
  },
  {
   "cell_type": "code",
   "execution_count": 2,
   "id": "1c893d25",
   "metadata": {},
   "outputs": [
    {
     "ename": "Exception",
     "evalue": "X Value Should not exceed 5 The Provided Value of X is 101",
     "output_type": "error",
     "traceback": [
      "\u001b[1;31m---------------------------------------------------------------------------\u001b[0m",
      "\u001b[1;31mException\u001b[0m                                 Traceback (most recent call last)",
      "\u001b[1;32m~\\AppData\\Local\\Temp/ipykernel_3328/979422347.py\u001b[0m in \u001b[0;36m<module>\u001b[1;34m\u001b[0m\n\u001b[0;32m      1\u001b[0m \u001b[1;31m# Example of raise\u001b[0m\u001b[1;33m\u001b[0m\u001b[1;33m\u001b[0m\u001b[0m\n\u001b[0;32m      2\u001b[0m \u001b[0mx\u001b[0m \u001b[1;33m=\u001b[0m \u001b[1;36m101\u001b[0m\u001b[1;33m\u001b[0m\u001b[1;33m\u001b[0m\u001b[0m\n\u001b[1;32m----> 3\u001b[1;33m \u001b[1;32mraise\u001b[0m \u001b[0mException\u001b[0m\u001b[1;33m(\u001b[0m\u001b[1;34mf'X Value Should not exceed 5 The Provided Value of X is {x}'\u001b[0m\u001b[1;33m)\u001b[0m\u001b[1;33m\u001b[0m\u001b[1;33m\u001b[0m\u001b[0m\n\u001b[0m",
      "\u001b[1;31mException\u001b[0m: X Value Should not exceed 5 The Provided Value of X is 101"
     ]
    }
   ],
   "source": [
    "# Example of raise\n",
    "x = 101\n",
    "raise Exception(f'X Value Should not exceed 5 The Provided Value of X is {x}')"
   ]
  },
  {
   "cell_type": "code",
   "execution_count": 3,
   "id": "bada1dd6",
   "metadata": {},
   "outputs": [
    {
     "ename": "AssertionError",
     "evalue": "2 is not equal to 4",
     "output_type": "error",
     "traceback": [
      "\u001b[1;31m---------------------------------------------------------------------------\u001b[0m",
      "\u001b[1;31mAssertionError\u001b[0m                            Traceback (most recent call last)",
      "\u001b[1;32m~\\AppData\\Local\\Temp/ipykernel_3328/2640526208.py\u001b[0m in \u001b[0;36m<module>\u001b[1;34m\u001b[0m\n\u001b[0;32m      1\u001b[0m \u001b[1;31m# Example of assert\u001b[0m\u001b[1;33m\u001b[0m\u001b[1;33m\u001b[0m\u001b[0m\n\u001b[1;32m----> 2\u001b[1;33m \u001b[1;32massert\u001b[0m\u001b[1;33m(\u001b[0m\u001b[1;36m2\u001b[0m\u001b[1;33m==\u001b[0m\u001b[1;36m10\u001b[0m\u001b[1;33m)\u001b[0m\u001b[1;33m,\u001b[0m \u001b[1;34m\"2 is not equal to 4\"\u001b[0m\u001b[1;33m\u001b[0m\u001b[1;33m\u001b[0m\u001b[0m\n\u001b[0m",
      "\u001b[1;31mAssertionError\u001b[0m: 2 is not equal to 4"
     ]
    }
   ],
   "source": [
    "# Example of assert\n",
    "assert(2==10), \"2 is not equal to 4\""
   ]
  },
  {
   "cell_type": "code",
   "execution_count": null,
   "id": "836fd774",
   "metadata": {},
   "outputs": [],
   "source": [
    "Q5. Identify two methods for specifying actions to be executed at termination time, regardless of whether or not an exception \n",
    "exists.\n",
    "Ans: Python Provides else and finally blocks for specifying actions to be executed at termination time, regardless of whether \n",
    "    an exceptions exists or not."
   ]
  }
 ],
 "metadata": {
  "kernelspec": {
   "display_name": "Python 3 (ipykernel)",
   "language": "python",
   "name": "python3"
  },
  "language_info": {
   "codemirror_mode": {
    "name": "ipython",
    "version": 3
   },
   "file_extension": ".py",
   "mimetype": "text/x-python",
   "name": "python",
   "nbconvert_exporter": "python",
   "pygments_lexer": "ipython3",
   "version": "3.9.7"
  }
 },
 "nbformat": 4,
 "nbformat_minor": 5
}
