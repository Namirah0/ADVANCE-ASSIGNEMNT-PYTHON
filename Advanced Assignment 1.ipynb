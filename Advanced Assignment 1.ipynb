{
 "cells": [
  {
   "cell_type": "code",
   "execution_count": null,
   "id": "ad2e6b83",
   "metadata": {},
   "outputs": [],
   "source": [
    "Q1. What is the purpose of Python's OOP?\n",
    "\n",
    "ANS: Object-oriented programming is a programming paradigm that provides a means of structuring programs so that properties \n",
    "    and behaviors are bundled into individual objects\n",
    "\n",
    "a.In Python, object-oriented Programming (OOPs) uses objects and classes in programming.\n",
    "b.It aims to implement real-world entities like inheritance, polymorphisms, encapsulation, etc. in the programming.\n",
    "c.The main concept of OOPs is to bind the data and the functions that work on that together as a single unit so that no \n",
    "other part of the code can access this data.\n",
    "\n",
    "Some Advantages are mentioned below:\n",
    "\n",
    "a.It helps to divide our over all program into different small segments and thus making problem solving easy through the use \n",
    "of objects\n",
    "b.Helps in easy maintenance and modification of existing program\n",
    "c.Multiple instances of an object can be made and explored."
   ]
  },
  {
   "cell_type": "code",
   "execution_count": null,
   "id": "7e4034a1",
   "metadata": {},
   "outputs": [],
   "source": [
    "Q2. Where does an inheritance search look for an attribute?\n",
    "\n",
    "ANS: Python searches for an attribute in an upward tree of attributes. Tt first searches for the attribute in its instance \n",
    "    and then looks in the class it is generated from, to all super classes listed in its class header"
   ]
  },
  {
   "cell_type": "code",
   "execution_count": null,
   "id": "d5676486",
   "metadata": {},
   "outputs": [],
   "source": [
    "Q3. How do you distinguish between a class object and an instance object?\n",
    "\n",
    "ANS: The differences between a class object and an instance object are:\n",
    "\n",
    "a.Class is a template for creating objects whereas object is an instance of class\n",
    "b.Seperate memory is allocated for each object whenever an object is created. but for a class this doesnot happens.\n",
    "c.A Class is created once. Many objects are created using a class.\n",
    "d.As Classes have no allocated memory. they can't be manipulated. but objects can be manipulated."
   ]
  },
  {
   "cell_type": "code",
   "execution_count": null,
   "id": "0e06c66d",
   "metadata": {},
   "outputs": [],
   "source": [
    "Q4. What makes the first argument in a class’s method function special?\n",
    "\n",
    "ANS: Python Classes usually have three types of methods which are:\n",
    "\n",
    "a.Instance Methods (object level methods)\n",
    "b.Class Methods (class level methods)\n",
    "c.Static Methods (general utility methods)\n",
    "d.self is the first argument for instance methods. which refers to the object itself\n",
    "e.cls is the first argument for class methods which refers to the class itself"
   ]
  },
  {
   "cell_type": "code",
   "execution_count": null,
   "id": "b0e594c3",
   "metadata": {},
   "outputs": [],
   "source": [
    "Q5. What is the purpose of the init method?\n",
    "\n",
    "ANS: __init__ is a reseved method in python classes. It serves the role of a constructor in object oriented terminology. \n",
    "    This method is called when an object is created from a class and it allows the class to initialize the attributes of the \n",
    "    class"
   ]
  },
  {
   "cell_type": "code",
   "execution_count": null,
   "id": "ef5ff74d",
   "metadata": {},
   "outputs": [],
   "source": [
    "Q6. What is the process for creating a class instance?\n",
    "\n",
    "ANS: To create a class instance, we need to call the class by its name and pass the arguments to the class, which its init \n",
    "method accepts.\n",
    "\n",
    "Example: my_name = my_class(\"Namirah\",\"Bewnak\") Here my_name is an instance of class my_class with attributes \"Namirah\" and \n",
    "    \"Bewnak\"."
   ]
  },
  {
   "cell_type": "code",
   "execution_count": null,
   "id": "d524fbff",
   "metadata": {},
   "outputs": [],
   "source": [
    "Q7. What is the process for creating a class?\n",
    "\n",
    "ANS: class keyword is used to created a class in python. The syntax to create a class in python is class <classname>:\n",
    "\n",
    "Example: class Shape: ➞ this creates a class called Shape"
   ]
  },
  {
   "cell_type": "code",
   "execution_count": null,
   "id": "2812d0ea",
   "metadata": {},
   "outputs": [],
   "source": [
    "Q8. How would you define the superclasses of a class?\n",
    "\n",
    "ANS: Superclass/Parent class is given as a arugment to the child class\n",
    "\n",
    "Example: class Employee(Person): Here child class Employee inherits attributes and methods/functions from Superclass/Parent\n",
    "        Person"
   ]
  }
 ],
 "metadata": {
  "kernelspec": {
   "display_name": "Python 3 (ipykernel)",
   "language": "python",
   "name": "python3"
  },
  "language_info": {
   "codemirror_mode": {
    "name": "ipython",
    "version": 3
   },
   "file_extension": ".py",
   "mimetype": "text/x-python",
   "name": "python",
   "nbconvert_exporter": "python",
   "pygments_lexer": "ipython3",
   "version": "3.9.7"
  }
 },
 "nbformat": 4,
 "nbformat_minor": 5
}
