{
 "cells": [
  {
   "cell_type": "code",
   "execution_count": null,
   "id": "192d74f8",
   "metadata": {},
   "outputs": [],
   "source": [
    "Q1. Define the relationship between a class and its instances. Is it a one-to-one or a one-to-many partnership, for example?\n",
    "Ans: Relationship between a class and its instances is a one to many partnership. Object is a physical entity or real word \n",
    "    entity. An object occupies space in memory. Example:-banana,chair,pen etc are objects. Class is a logical entity which \n",
    "    does not exist in real world. Or we can say that class is a blueprint to create objects of similiar types. A class \n",
    "    does not take space in memory. Examples:-fruits,furniture,vehicles etc."
   ]
  },
  {
   "cell_type": "code",
   "execution_count": null,
   "id": "48a6b7a6",
   "metadata": {},
   "outputs": [],
   "source": [
    "Q2. What kind of data is held only in an instance?\n",
    "Ans: Instance objects contains the Instance variables which are specific to that specific Instance object."
   ]
  },
  {
   "cell_type": "code",
   "execution_count": null,
   "id": "d796aea5",
   "metadata": {},
   "outputs": [],
   "source": [
    "Q3. What kind of knowledge is stored in a class?\n",
    "Ans: Class creates a user-defined data structure, which holds its own data members and member functions, which can be accessed\n",
    "    and used by creating an instance of that class. A class is like a blueprint for an object. Class is a logical entity which\n",
    "    does not exist in real world Or we can say that class is a blueprint to create objects of similiar types. A class does not \n",
    "    take space in memory. Examples:-fruits,furniture,vehicles etc."
   ]
  },
  {
   "cell_type": "code",
   "execution_count": null,
   "id": "e43a5db0",
   "metadata": {},
   "outputs": [],
   "source": [
    "Q4. What exactly is a method, and how is it different from a regular function?\n",
    "Ans: The methods with a class can be used to access the insatnce variables of its instance. So,the object's state can be \n",
    "    modified by its method. Function can't access the attributes of an instance of a class or can't modify the state of the \n",
    "    object. A function is independent, whereas a method is a function linked with an object. Explicit data is passed on to a \n",
    "    function, whereas a method completely passes the object on which it was called in the program. A method is Object-oriented\n",
    "    programming while a function has standalone functionality"
   ]
  },
  {
   "cell_type": "code",
   "execution_count": null,
   "id": "abbe68b1",
   "metadata": {},
   "outputs": [],
   "source": [
    "Q5. Is inheritance supported in Python, and if so, what is the syntax?\n",
    "Ans: Yes,Python supports inheritance. The Types of Inheritence Supported by Python are:\n",
    "\n",
    "1.Simple Inheritence\n",
    "2.Multiple Inheritence\n",
    "3.Multilevel lInheritence\n",
    "4.Hybrid Inheritence\n",
    "5.Hierracial Inheritence"
   ]
  },
  {
   "cell_type": "code",
   "execution_count": 1,
   "id": "7b4443ea",
   "metadata": {},
   "outputs": [],
   "source": [
    "class Person:\n",
    "    def __init__(self, fname, lname):\n",
    "        self.first_name = fname\n",
    "        self.last_name = lname\n",
    "class Student(Person):\n",
    "    pass"
   ]
  },
  {
   "cell_type": "code",
   "execution_count": null,
   "id": "a07beb97",
   "metadata": {},
   "outputs": [],
   "source": [
    "Q6. How much encapsulation (making instance or class variables private) does Python support?\n",
    "Ans: Encapsulation describes the idea of wrapping data and the methods that work on data within one unit. This puts restrictions\n",
    "    on accessing variables and methods directly and can prevent the accidental modification of data. To prevent accidental \n",
    "    change, an objects variable can only be changed by an objects method."
   ]
  },
  {
   "cell_type": "code",
   "execution_count": null,
   "id": "e76e8792",
   "metadata": {},
   "outputs": [],
   "source": [
    "Q7. How do you distinguish between a class variable and an instance variable?\n",
    "Ans: The Class Attribute is available to all the instance objects of that class whereas Instance Attributes are accessible only\n",
    "    to the object or Instance of that class.\n",
    "\n",
    "A single copy of Class attributes is maintained by pvm at the class level Whereas different copies of instance attributes are \n",
    "maintained by pvm at objects/instance level."
   ]
  },
  {
   "cell_type": "code",
   "execution_count": null,
   "id": "f14a00a9",
   "metadata": {},
   "outputs": [],
   "source": [
    "Q8. When, if ever, can self be included in a class's method definitions?\n",
    "Ans: Yes, self can be included in class method definitions to access the instance variables inside class methods."
   ]
  },
  {
   "cell_type": "code",
   "execution_count": null,
   "id": "925b67e4",
   "metadata": {},
   "outputs": [],
   "source": [
    "Q9. What is the difference between the __add__ and the __radd__ methods ?\n",
    "Ans: Entering __radd__ Python will first try __add__(), and if that returns Not Implemented Python will check if the right-hand\n",
    "    operand implements __radd__, and if it does, it will call __radd__() rather than raising a TypeError.\n",
    "\n",
    "The expression a+b is internally translated to the method call a.add(b). But if a and b are of different types, it is possible\n",
    "that a's implementation of addition cannot deal with objects of b's type (or maybe a does not have a add method, at all). So,\n",
    "if a.add(b) fails, Python tries b.radd(a) instead, to see if b's implementation can deal with objects of a's type."
   ]
  },
  {
   "cell_type": "code",
   "execution_count": null,
   "id": "5cda0fe4",
   "metadata": {},
   "outputs": [],
   "source": [
    "Q10. When is it necessary to use a reflection method? When do you not need it, even though you support the operation in \n",
    "question?\n",
    "Ans: Reflection refers to the ability for code to be able to examine attributes about objects that might be passed as parameters\n",
    "    to a function. For example, if we write type(obj) then Python will return an object which represents the type of obj. Using\n",
    "reflection, we can write one recursive reverse function that will work for strings, lists, and any other sequence that supports\n",
    "slicing and concatenation. If an obj is a reference to a string, then Python will return the str type object. Further, if we \n",
    "write str() we get a string which is the empty string. In other words, writing str() is the same thing as writing “”. Likewise,\n",
    "writing list() is the same thing as writing [].\n"
   ]
  },
  {
   "cell_type": "code",
   "execution_count": 2,
   "id": "2d8f34b8",
   "metadata": {},
   "outputs": [
    {
     "name": "stdout",
     "output_type": "stream",
     "text": [
      "x is not callable\n",
      "y is callable\n"
     ]
    }
   ],
   "source": [
    "x = 5\n",
    "\n",
    "def testFunction():\n",
    "  print(\"Test\")\n",
    "   \n",
    "y = testFunction\n",
    "\n",
    "if (callable(x)):\n",
    "    print(\"x is callable\")\n",
    "else:\n",
    "    print(\"x is not callable\")\n",
    "\n",
    "if (callable(y)):\n",
    "    print(\"y is callable\")\n",
    "else:\n",
    "    print(\"y is not callable\")"
   ]
  },
  {
   "cell_type": "code",
   "execution_count": null,
   "id": "59b64d1a",
   "metadata": {},
   "outputs": [],
   "source": [
    "Q11. What is the __iadd__ method called?\n",
    "Ans: __iadd__ method is called when we use implementation like a+=b which is a.__iadd__(b)"
   ]
  },
  {
   "cell_type": "code",
   "execution_count": null,
   "id": "c126e938",
   "metadata": {},
   "outputs": [],
   "source": [
    "Q12. Is the _ _init_ _ method inherited by subclasses? What do you do if you need to customize its behavior within a subclass ?\n",
    "Ans: Yes, __init__ method will be inherited by subclasses. If we want to customize its behaviour within a subclass, we can use \n",
    "    super() method.\n"
   ]
  }
 ],
 "metadata": {
  "kernelspec": {
   "display_name": "Python 3 (ipykernel)",
   "language": "python",
   "name": "python3"
  },
  "language_info": {
   "codemirror_mode": {
    "name": "ipython",
    "version": 3
   },
   "file_extension": ".py",
   "mimetype": "text/x-python",
   "name": "python",
   "nbconvert_exporter": "python",
   "pygments_lexer": "ipython3",
   "version": "3.9.7"
  }
 },
 "nbformat": 4,
 "nbformat_minor": 5
}
